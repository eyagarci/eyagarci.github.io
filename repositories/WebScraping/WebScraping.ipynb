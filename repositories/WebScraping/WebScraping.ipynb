{
 "cells": [
  {
   "cell_type": "code",
   "execution_count": 20,
   "metadata": {},
   "outputs": [],
   "source": [
    "# import packages\n",
    "from newspaper import Article\n",
    "import nltk\n",
    "import pandas as pd"
   ]
  },
  {
   "cell_type": "code",
   "execution_count": 50,
   "metadata": {},
   "outputs": [],
   "source": [
    "# define your article\n",
    "url=\"https://www.20minutes.fr/high-tech/2943135-20210101-netflix-va-investir-19-milliards-de-dollars-dans-des-productions-en-2021\"\n",
    "article=Article(url)\n",
    "article.download()\n",
    "article.parse()"
   ]
  },
  {
   "cell_type": "code",
   "execution_count": 51,
   "metadata": {},
   "outputs": [
    {
     "name": "stdout",
     "output_type": "stream",
     "text": [
      "Netflix va investir 19 milliards de dollars dans ses productions en 2021\n"
     ]
    }
   ],
   "source": [
    "# display article title\n",
    "title=article.title\n",
    "print(title)"
   ]
  },
  {
   "cell_type": "code",
   "execution_count": 52,
   "metadata": {},
   "outputs": [
    {
     "data": {
      "text/plain": [
       "['Jennifer Mertens Pour Minutes']"
      ]
     },
     "execution_count": 52,
     "metadata": {},
     "output_type": "execute_result"
    }
   ],
   "source": [
    "# display article author\n",
    "article.authors"
   ]
  },
  {
   "cell_type": "code",
   "execution_count": 53,
   "metadata": {},
   "outputs": [
    {
     "data": {
      "text/plain": [
       "datetime.datetime(2021, 1, 1, 0, 0)"
      ]
     },
     "execution_count": 53,
     "metadata": {},
     "output_type": "execute_result"
    }
   ],
   "source": [
    "# display article date\n",
    "article.publish_date"
   ]
  },
  {
   "cell_type": "code",
   "execution_count": 54,
   "metadata": {},
   "outputs": [
    {
     "data": {
      "text/plain": [
       "'https://img.20mn.fr/Ay6phSTpR4OrIOJ8Vek7eQ/648x360_netflix-va-investir-19-milliards-de-dollars-dans-des-productions-en-2021.jpg'"
      ]
     },
     "execution_count": 54,
     "metadata": {},
     "output_type": "execute_result"
    }
   ],
   "source": [
    "# display article photo\n",
    "article.top_image"
   ]
  },
  {
   "cell_type": "code",
   "execution_count": 56,
   "metadata": {},
   "outputs": [
    {
     "name": "stdout",
     "output_type": "stream",
     "text": [
      "Netflix va investir 19 milliards de dollars dans des productions en 2021 — Geeko\n",
      "\n",
      "Leader sur le marché du streaming, Netflix entend bien conserver son titre et pour cela, la société américaine n’hésite pas à mettre de l’argent sur la table pour produire des films et séries originales, quitte à s’endetter toujours plus. Une politique que Netflix continuera de suivre en 2021 puisque, selon les données récoltées par la bande d’investissement néerlandaise Bankr, le service de VOD prévoit d’investir 19,3 milliards de dollars dans des productions exclusives, un record.\n",
      "\n",
      "Le budget 2021 alloué aux productions originales sera 10 % plus important que celui de 2020 (17,3 milliards de dollars). Une tendance qui s’observe depuis plusieurs années. Netflix avait déjà investi 4,9 milliards de dollars en 2015 pour ses productions propres. Or, la plateforme américaine mise désormais énormément sur les exclusivités pour attirer de nouveaux abonnés, mais aussi pour les fidéliser sur le long terme. De manière générale, les productions originales sont un moteur de croissance pour les services de VOD.\n",
      "\n",
      "Un pari payant dans le cas de Netflix puisque la plateforme de streaming ne cesse de séduire de nouveaux abonnés. Elle comptait plus de 195 millions d’abonnés au troisième quadrimestre 2020, selon les chiffres de Bankr.\n",
      "\n",
      "Garder un temps d’avance sur la concurrence\n",
      "\n",
      "Si à l’heure actuelle le nombre d’exclusivités est moins nombreux chez les concurrents directs de Netflix – Amazon Video Prime, Disney+ ou encore Apple TV+ –, ces derniers misent également là-dessus pour rattraper leur retard par rapport à Netflix. D’ailleurs, avec l’arrivée des premières séries Marvel et l’annonce de nouveaux contenus tirés de l’univers de Star Wars sur Disney+, Netflix a certainement du souci à se faire. Cela pourrait d’ailleurs expliquer pourquoi le budget alloué aux productions exclusives en 2021 sera plus important.\n",
      "\n",
      "Il y a cependant un revers à la médaille puisque la dette de Netflix ne cesse de s’allonger. En 2019, la plateforme de streaming accusait une trésorerie négative de 14,4 milliards de dollars. Et si la pandémie de coronavirus a certainement aidé Netflix à séduire de nouveaux abonnés, difficile d’imaginer que sa dette se soit allégée de manière significative.\n"
     ]
    }
   ],
   "source": [
    "# display article text\n",
    "text=article.text\n",
    "print(text)"
   ]
  },
  {
   "cell_type": "code",
   "execution_count": 57,
   "metadata": {},
   "outputs": [
    {
     "name": "stdout",
     "output_type": "stream",
     "text": [
      "[nltk_data] Downloading package punkt to\n",
      "[nltk_data]     C:\\Users\\eya_g\\AppData\\Roaming\\nltk_data...\n",
      "[nltk_data]   Package punkt is already up-to-date!\n"
     ]
    }
   ],
   "source": [
    "nltk.download('punkt')\n",
    "article.nlp()"
   ]
  },
  {
   "cell_type": "code",
   "execution_count": 58,
   "metadata": {},
   "outputs": [
    {
     "data": {
      "text/plain": [
       "'Le budget 2021 alloué aux productions originales sera 10 % plus important que celui de 2020 (17,3 milliards de dollars).\\nNetflix avait déjà investi 4,9 milliards de dollars en 2015 pour ses productions propres.\\nOr, la plateforme américaine mise désormais énormément sur les exclusivités pour attirer de nouveaux abonnés, mais aussi pour les fidéliser sur le long terme.\\nDe manière générale, les productions originales sont un moteur de croissance pour les services de VOD.\\nIl y a cependant un revers à la médaille puisque la dette de Netflix ne cesse de s’allonger.'"
      ]
     },
     "execution_count": 58,
     "metadata": {},
     "output_type": "execute_result"
    }
   ],
   "source": [
    "# summarize the article\n",
    "article.summary"
   ]
  },
  {
   "cell_type": "markdown",
   "metadata": {},
   "source": [
    "## Extract several papers"
   ]
  },
  {
   "cell_type": "code",
   "execution_count": 65,
   "metadata": {},
   "outputs": [
    {
     "name": "stdout",
     "output_type": "stream",
     "text": [
      "https://www.20minutes.fr/high-tech/2942351-20201230-une-arnaque-a-l-ecran-bleu-sevit-sur-windows-10\n",
      "https://www.20minutes.fr/high-tech/2943135-20210101-netflix-va-investir-19-milliards-de-dollars-dans-des-productions-en-2021\n",
      "https://www.20minutes.fr/high-tech/2944563-20210104-app-store-appli-amphetamine-viseur-apple-cause-erreur-algorithme\n",
      "https://www.20minutes.fr/high-tech/2944647-20210104-whatsapp-14-milliard-appels-recenses-soir-nouvel-an-record-application\n",
      "https://www.20minutes.fr/paris/2944999-20210105-5g-xavier-niel-table-fin-fevrier-voir-arriver-reseau-derniere-generation-paris\n"
     ]
    }
   ],
   "source": [
    "# specify different links\n",
    "urls = [\"https://www.20minutes.fr/high-tech/2942351-20201230-une-arnaque-a-l-ecran-bleu-sevit-sur-windows-10\",\n",
    "      \"https://www.20minutes.fr/high-tech/2943135-20210101-netflix-va-investir-19-milliards-de-dollars-dans-des-productions-en-2021\",\n",
    "       \"https://www.20minutes.fr/high-tech/2944563-20210104-app-store-appli-amphetamine-viseur-apple-cause-erreur-algorithme\",\n",
    "        \"https://www.20minutes.fr/high-tech/2944647-20210104-whatsapp-14-milliard-appels-recenses-soir-nouvel-an-record-application\",\n",
    "        \"https://www.20minutes.fr/paris/2944999-20210105-5g-xavier-niel-table-fin-fevrier-voir-arriver-reseau-derniere-generation-paris\"\n",
    "       ]\n",
    "\n",
    "def url_text(url):\n",
    "    article=Article(url)\n",
    "    article.download()\n",
    "    article.parse()\n",
    "    title=article.title\n",
    "    text=article.text\n",
    "    author=article.authors\n",
    "    print(url)\n",
    "    return title,author,text\n",
    "\n",
    "texts=[url_text(url) for url in urls]"
   ]
  },
  {
   "cell_type": "code",
   "execution_count": 66,
   "metadata": {},
   "outputs": [
    {
     "data": {
      "text/plain": [
       "('Windows 10 : Une arnaque à « l’écran bleu » cible les utilisateurs du système d’exploitation de Microsoft',\n",
       " ['Jennifer Mertens Pour Minutes'],\n",
       " 'Une arnaque à “l’écran bleu” sévit sur Windows 10 — Geeko\\n\\nUne nouvelle arnaque cible actuellement les utilisateurs de Windows 10. Elle se manifeste par l’apparition soudaine du fameux écran bleu, synonyme de problème technique, sauf que dans ce cas-ci, il s’agit d’une contrefaçon qui vise à arnaquer les utilisateurs de Windows 10.\\n\\nLa page indique que l’ordinateur a été verrouillé à cause d’un virus et que l’utilisateur risque de perdre l’ensemble de ses données. Pour éviter cela, les utilisateurs sont invités à appeler un numéro de téléphone qui les mettra en contact avec le support technique de Windows.\\n\\nL’illusion est particulièrement convaincante. Cette contrefaçon reprend en effet l’ensemble des codes de l’écran bleu officiel de Windows ce qui pousse les utilisateurs à contacter le numéro de téléphone indiqué. Face à la menace de perdre ses fichiers personnels et que ses informations bancaires soient volées, les victimes peuvent facilement céder à la pression.\\n\\nUne arnaque à « l’écran bleu » sévit sur Windows 10 - Geeko Capture d’écran La Voix du Nord\\n\\nEn réalité, comme le souligne le site Internet cybermalveillance.gouv.fr, il s’agit bel et bien d’une arnaque puisque le fameux numéro du support technique Windows n’est pas bon. Il renvoie en réalité aux auteurs de l’arnaque qui se font passer pour des pseudo-dépanneurs de Microsoft. Ces derniers indiquent qu’ils vont devoir prendre le contrôle de l’appareil pour installer des logiciels qu’ils feront payer à leurs victimes. Le but étant bien évidemment de soutirer de l’argent à leurs cibles.\\n\\nNe pas céder à la panique\\n\\nIl est conseillé de ne pas appeler le numéro de téléphone indiqué, de redémarrer votre ordinateur, de nettoyer son navigateur web et de désinstaller toutes les applications suspectes de votre appareil. Microsoft liste plusieurs autres conseils sur sa page dédiée aux arnaques au support technique, un type d’escroqueries particulièrement répandues dans le secteur de l’informatique.\\n\\nSi vous avez un doute par rapport à un numéro de téléphone du soi-disant support technique de Windows, faites une recherche via votre smartphone ou un autre ordinateur. Vous devriez avoir rapidement des informations à son sujet. S’il est authentique, le site de Microsoft le listera, s’il ne l’est pas, vous pourriez tomber sur des témoignages d’autres utilisateurs.\\n\\nOutre le numéro de téléphone, le texte de la page peut également vous mettre la puce à l’oreille. Il est assez rare que l’écran bleu de Windows indique que vos identifiants Facebook soient potentiellement volés. De plus, en cas d’erreur ou de problème, le code exact du problème est indiqué et non simplement « code d’arrêt : VIRUS ».\\n\\nEnfin, pensez à garder des preuves (photos, captures d’écran) et à porter plainte auprès de la police. Vous pouvez également faire part de votre mésaventure à l’organisme Safe On Web, cela évitera à d’autres de se faire avoir.')"
      ]
     },
     "execution_count": 66,
     "metadata": {},
     "output_type": "execute_result"
    }
   ],
   "source": [
    "texts[0]"
   ]
  },
  {
   "cell_type": "code",
   "execution_count": 68,
   "metadata": {},
   "outputs": [
    {
     "data": {
      "text/html": [
       "<div>\n",
       "<style scoped>\n",
       "    .dataframe tbody tr th:only-of-type {\n",
       "        vertical-align: middle;\n",
       "    }\n",
       "\n",
       "    .dataframe tbody tr th {\n",
       "        vertical-align: top;\n",
       "    }\n",
       "\n",
       "    .dataframe thead th {\n",
       "        text-align: right;\n",
       "    }\n",
       "</style>\n",
       "<table border=\"1\" class=\"dataframe\">\n",
       "  <thead>\n",
       "    <tr style=\"text-align: right;\">\n",
       "      <th></th>\n",
       "      <th>Title</th>\n",
       "      <th>Author</th>\n",
       "      <th>Text</th>\n",
       "    </tr>\n",
       "  </thead>\n",
       "  <tbody>\n",
       "    <tr>\n",
       "      <th>0</th>\n",
       "      <td>Windows 10 : Une arnaque à « l’écran bleu » ci...</td>\n",
       "      <td>[Jennifer Mertens Pour Minutes]</td>\n",
       "      <td>Une arnaque à “l’écran bleu” sévit sur Windows...</td>\n",
       "    </tr>\n",
       "    <tr>\n",
       "      <th>1</th>\n",
       "      <td>Netflix va investir 19 milliards de dollars da...</td>\n",
       "      <td>[Jennifer Mertens Pour Minutes]</td>\n",
       "      <td>Netflix va investir 19 milliards de dollars da...</td>\n",
       "    </tr>\n",
       "    <tr>\n",
       "      <th>2</th>\n",
       "      <td>App Store : L'appli « Amphetamine » dans le vi...</td>\n",
       "      <td>[Minutes Avec Agence]</td>\n",
       "      <td>NO DRUGS L’application Amphetamine a été détec...</td>\n",
       "    </tr>\n",
       "    <tr>\n",
       "      <th>3</th>\n",
       "      <td>WhatsApp : 1,4 milliard d’appels recensés le s...</td>\n",
       "      <td>[Minutes Avec Agence]</td>\n",
       "      <td>RÉVEILLON Cela représente une augmentation de ...</td>\n",
       "    </tr>\n",
       "    <tr>\n",
       "      <th>4</th>\n",
       "      <td>5G : Xavier Niel table sur « fin février » pou...</td>\n",
       "      <td>[Minutes Avec Afp]</td>\n",
       "      <td>TELEPHONIE Selon l’Autorité de régulation des ...</td>\n",
       "    </tr>\n",
       "  </tbody>\n",
       "</table>\n",
       "</div>"
      ],
      "text/plain": [
       "                                               Title  \\\n",
       "0  Windows 10 : Une arnaque à « l’écran bleu » ci...   \n",
       "1  Netflix va investir 19 milliards de dollars da...   \n",
       "2  App Store : L'appli « Amphetamine » dans le vi...   \n",
       "3  WhatsApp : 1,4 milliard d’appels recensés le s...   \n",
       "4  5G : Xavier Niel table sur « fin février » pou...   \n",
       "\n",
       "                            Author  \\\n",
       "0  [Jennifer Mertens Pour Minutes]   \n",
       "1  [Jennifer Mertens Pour Minutes]   \n",
       "2            [Minutes Avec Agence]   \n",
       "3            [Minutes Avec Agence]   \n",
       "4               [Minutes Avec Afp]   \n",
       "\n",
       "                                                Text  \n",
       "0  Une arnaque à “l’écran bleu” sévit sur Windows...  \n",
       "1  Netflix va investir 19 milliards de dollars da...  \n",
       "2  NO DRUGS L’application Amphetamine a été détec...  \n",
       "3  RÉVEILLON Cela représente une augmentation de ...  \n",
       "4  TELEPHONIE Selon l’Autorité de régulation des ...  "
      ]
     },
     "execution_count": 68,
     "metadata": {},
     "output_type": "execute_result"
    }
   ],
   "source": [
    "columns_name=['Title','Author','Text']\n",
    "df=pd.DataFrame(data=texts,columns=columns_name)\n",
    "df"
   ]
  }
 ],
 "metadata": {
  "kernelspec": {
   "display_name": "Python 3",
   "language": "python",
   "name": "python3"
  },
  "language_info": {
   "codemirror_mode": {
    "name": "ipython",
    "version": 3
   },
   "file_extension": ".py",
   "mimetype": "text/x-python",
   "name": "python",
   "nbconvert_exporter": "python",
   "pygments_lexer": "ipython3",
   "version": "3.7.3"
  }
 },
 "nbformat": 4,
 "nbformat_minor": 2
}
